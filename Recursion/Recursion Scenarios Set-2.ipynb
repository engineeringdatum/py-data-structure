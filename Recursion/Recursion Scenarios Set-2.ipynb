{
 "cells": [
  {
   "cell_type": "markdown",
   "id": "2e9ffc34",
   "metadata": {},
   "source": [
    "<h3 style=\"font-family:courier;\">1. Find factorial which accepts a number and returns the factorial of that number</h3>"
   ]
  },
  {
   "cell_type": "code",
   "execution_count": 14,
   "id": "3a095dca",
   "metadata": {},
   "outputs": [],
   "source": [
    "import random\n",
    "import math"
   ]
  },
  {
   "cell_type": "code",
   "execution_count": 15,
   "id": "57a8d01a",
   "metadata": {},
   "outputs": [
    {
     "name": "stdout",
     "output_type": "stream",
     "text": [
      "Number: 7 -----> Factorial: 5040\n"
     ]
    }
   ],
   "source": [
    "random_num = random.randint(1, 20)\n",
    "print(f\"Number: {random_num} -----> Factorial: {math.factorial(random_num)}\")"
   ]
  },
  {
   "cell_type": "code",
   "execution_count": 16,
   "id": "237458c7",
   "metadata": {},
   "outputs": [],
   "source": [
    "def factorial(number):\n",
    "    assert int(number) == number, 'the number must be an integer'\n",
    "    if number == 1:\n",
    "        return 1\n",
    "    return number * factorial(number-1)"
   ]
  },
  {
   "cell_type": "code",
   "execution_count": 17,
   "id": "ccd2ba88",
   "metadata": {},
   "outputs": [
    {
     "name": "stdout",
     "output_type": "stream",
     "text": [
      "Number: 7 -----> Factorial: 5040\n"
     ]
    }
   ],
   "source": [
    "print(f\"Number: {random_num} -----> Factorial: {factorial(random_num)}\")"
   ]
  },
  {
   "cell_type": "markdown",
   "id": "69b763fe",
   "metadata": {},
   "source": [
    "<h3 style=\"font-family:courier;\">2.Write a function called productOfArray which takes in an array of numbers and returns the product of them all</h3>"
   ]
  },
  {
   "cell_type": "code",
   "execution_count": 5,
   "id": "570812fa",
   "metadata": {},
   "outputs": [
    {
     "name": "stdout",
     "output_type": "stream",
     "text": [
      "(5, 3) -----> power: 125\n"
     ]
    }
   ],
   "source": [
    "random_input = (random.randint(0, 100),random.randint(2, 10))\n",
    "print(f\"{random_input} -----> power: {random_input[0]**random_input[1]}\")"
   ]
  },
  {
   "cell_type": "code",
   "execution_count": 6,
   "id": "e0e5065f",
   "metadata": {},
   "outputs": [],
   "source": [
    "def productOfArray(idx,digit_list):\n",
    "    if idx == (len(digit_list)-1):\n",
    "        return digit_list[idx]\n",
    "    return digit_list[idx] + add_numbers(idx+1,digit_list)"
   ]
  },
  {
   "cell_type": "code",
   "execution_count": 7,
   "id": "90771058",
   "metadata": {},
   "outputs": [
    {
     "name": "stdout",
     "output_type": "stream",
     "text": [
      "5 raise to the power 3 = 125\n"
     ]
    }
   ],
   "source": [
    "print(f\"{random_input[0]} raise to the power {random_input[1]} = {calc_power(random_input[0],random_input[1])}\")"
   ]
  },
  {
   "cell_type": "markdown",
   "id": "7c419c92",
   "metadata": {},
   "source": [
    "<h3 style=\"font-family:courier;\">3. Convert decimal to binary</h3>"
   ]
  },
  {
   "cell_type": "code",
   "execution_count": 12,
   "id": "53946525",
   "metadata": {},
   "outputs": [
    {
     "name": "stdout",
     "output_type": "stream",
     "text": [
      " Decimal: 8 -----> Binary: 0b1000\n"
     ]
    }
   ],
   "source": [
    "random_decimal = random.randint(1,20)\n",
    "print(f\" Decimal: {random_decimal} -----> Binary: {bin(random_decimal)}\")"
   ]
  },
  {
   "cell_type": "code",
   "execution_count": 21,
   "id": "2cf645af",
   "metadata": {},
   "outputs": [],
   "source": [
    "def binary_convert(decimal):\n",
    "    assert int(decimal) == decimal, 'decimal must be an integer'\n",
    "    if decimal == 0:\n",
    "        return 0\n",
    "    return decimal%2 + (10*binary_convert(int(decimal/2)))"
   ]
  },
  {
   "cell_type": "code",
   "execution_count": 23,
   "id": "17709db3",
   "metadata": {},
   "outputs": [
    {
     "name": "stdout",
     "output_type": "stream",
     "text": [
      " Decimal: 8 -----> Binary: 1000\n"
     ]
    }
   ],
   "source": [
    "print(f\" Decimal: {random_decimal} -----> Binary: {binary_convert(random_decimal)}\")"
   ]
  },
  {
   "cell_type": "code",
   "execution_count": null,
   "id": "54263fd7",
   "metadata": {},
   "outputs": [],
   "source": []
  }
 ],
 "metadata": {
  "kernelspec": {
   "display_name": "Python 3 (ipykernel)",
   "language": "python",
   "name": "python3"
  },
  "language_info": {
   "codemirror_mode": {
    "name": "ipython",
    "version": 3
   },
   "file_extension": ".py",
   "mimetype": "text/x-python",
   "name": "python",
   "nbconvert_exporter": "python",
   "pygments_lexer": "ipython3",
   "version": "3.9.13"
  }
 },
 "nbformat": 4,
 "nbformat_minor": 5
}
