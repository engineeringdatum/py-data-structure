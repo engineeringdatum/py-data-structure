{
 "cells": [
  {
   "cell_type": "markdown",
   "id": "2e9ffc34",
   "metadata": {},
   "source": [
    "<p style=\"font-family:courier;text-align:center;color:rgb(46,64,83);font-size:large\"><b>Find factorial which accepts a number and returns the factorial of that number</b></p>\n",
    "<br>"
   ]
  },
  {
   "cell_type": "code",
   "execution_count": 1,
   "id": "3a095dca",
   "metadata": {},
   "outputs": [],
   "source": [
    "import random\n",
    "import math"
   ]
  },
  {
   "cell_type": "code",
   "execution_count": 2,
   "id": "57a8d01a",
   "metadata": {},
   "outputs": [
    {
     "name": "stdout",
     "output_type": "stream",
     "text": [
      "Number: 5 -----> Factorial: 120\n"
     ]
    }
   ],
   "source": [
    "random_num = random.randint(1, 20)\n",
    "print(f\"Number: {random_num} -----> Factorial: {math.factorial(random_num)}\")"
   ]
  },
  {
   "cell_type": "code",
   "execution_count": 3,
   "id": "237458c7",
   "metadata": {},
   "outputs": [],
   "source": [
    "def factorial(number):\n",
    "    assert int(number) == number, 'the number must be an integer'\n",
    "    if number == 1:\n",
    "        return 1\n",
    "    return number * factorial(number-1)"
   ]
  },
  {
   "cell_type": "code",
   "execution_count": 4,
   "id": "ccd2ba88",
   "metadata": {},
   "outputs": [
    {
     "name": "stdout",
     "output_type": "stream",
     "text": [
      "Number: 5 -----> Factorial: 120\n"
     ]
    }
   ],
   "source": [
    "print(f\"Number: {random_num} -----> Factorial: {factorial(random_num)}\")"
   ]
  },
  {
   "cell_type": "markdown",
   "id": "69b763fe",
   "metadata": {},
   "source": [
    "<br>\n",
    "<p style=\"font-family:courier;text-align:center;color:rgb(46,64,83);font-size:large\"><b>Write a function called <b style=\"color:Tomato;\">productOfArray</b> which takes in an array of numbers and returns the product of them all</b></p>\n",
    "<br>"
   ]
  },
  {
   "cell_type": "code",
   "execution_count": 5,
   "id": "570812fa",
   "metadata": {},
   "outputs": [
    {
     "name": "stdout",
     "output_type": "stream",
     "text": [
      "[64, 91, 74, 50, 27] -----> product: 581817600\n"
     ]
    }
   ],
   "source": [
    "random_list = list({random.randint(1, 100) for idx in range(5)})\n",
    "print(f\"{random_list} -----> product: {math.prod(random_list)}\")"
   ]
  },
  {
   "cell_type": "code",
   "execution_count": 6,
   "id": "e0e5065f",
   "metadata": {},
   "outputs": [],
   "source": [
    "def productOfArray(digit_list):\n",
    "    if len(digit_list) == 0:\n",
    "        return 1\n",
    "    return digit_list[0] * productOfArray(digit_list[1:])"
   ]
  },
  {
   "cell_type": "code",
   "execution_count": 7,
   "id": "90771058",
   "metadata": {},
   "outputs": [
    {
     "name": "stdout",
     "output_type": "stream",
     "text": [
      "Array: [64, 91, 74, 50, 27] -----> productOfArray: 581817600\n"
     ]
    }
   ],
   "source": [
    "print(f\"Array: {random_list} -----> productOfArray: {math.prod(random_list)}\")"
   ]
  },
  {
   "cell_type": "markdown",
   "id": "7c419c92",
   "metadata": {},
   "source": [
    "<br>\n",
    "<p style=\"font-family:courier;text-align:center;color:rgb(46,64,83);font-size:large\"><b>Write a function called <b style=\"color:Tomato;\">recursiveRange</b> which accepts a number and adds up all the numbers from 0 to the number passed to the function.</b></p>\n",
    "<br>"
   ]
  },
  {
   "cell_type": "code",
   "execution_count": 8,
   "id": "53946525",
   "metadata": {},
   "outputs": [
    {
     "name": "stdout",
     "output_type": "stream",
     "text": [
      " Number: 12\n"
     ]
    }
   ],
   "source": [
    "random_decimal = random.randint(1,100)\n",
    "print(f\" Number: {random_decimal}\")"
   ]
  },
  {
   "cell_type": "code",
   "execution_count": 9,
   "id": "2cf645af",
   "metadata": {},
   "outputs": [],
   "source": [
    "def recursiveRange(number):\n",
    "    assert int(number) == number, 'decimal must be an integer'\n",
    "    if number == 0:\n",
    "        return 0\n",
    "    return number + recursiveRange(number-1)"
   ]
  },
  {
   "cell_type": "code",
   "execution_count": 10,
   "id": "17709db3",
   "metadata": {},
   "outputs": [
    {
     "name": "stdout",
     "output_type": "stream",
     "text": [
      " Number: 12 -----> recursiveRange: 78\n"
     ]
    }
   ],
   "source": [
    "print(f\" Number: {random_decimal} -----> recursiveRange: {recursiveRange(random_decimal)}\")"
   ]
  },
  {
   "cell_type": "markdown",
   "id": "34bf88e3",
   "metadata": {},
   "source": [
    "<br>\n",
    "<p style=\"font-family:courier;text-align:center;color:rgb(46,64,83);font-size:large\"><b>Fibonacci Series</p></b>\n",
    "<p style=\"font-family:courier;text-align:center\">Generate series till the range provided by user</p>\n",
    "<br>"
   ]
  },
  {
   "cell_type": "code",
   "execution_count": 11,
   "id": "98512c4c",
   "metadata": {},
   "outputs": [
    {
     "name": "stdout",
     "output_type": "stream",
     "text": [
      " Number: 9\n"
     ]
    }
   ],
   "source": [
    "random_fibonacci = random.randint(1,20)\n",
    "print(f\" Number: {random_fibonacci}\")"
   ]
  },
  {
   "cell_type": "code",
   "execution_count": 12,
   "id": "ae70c40b",
   "metadata": {},
   "outputs": [],
   "source": [
    "def fibonacci(number):\n",
    "    assert int(number) == number, 'range must be an integer'\n",
    "    if(number == 0):\n",
    "        return 0\n",
    "    elif(number == 1):\n",
    "        return 1\n",
    "    else:\n",
    "        return (fibonacci(number - 1) + fibonacci(number - 2))"
   ]
  },
  {
   "cell_type": "code",
   "execution_count": 13,
   "id": "03d5be31",
   "metadata": {},
   "outputs": [
    {
     "name": "stdout",
     "output_type": "stream",
     "text": [
      " Number: 9 ---> Fibonacci Series:  0 1 1 2 3 5 8 13 21 "
     ]
    }
   ],
   "source": [
    "print(f\" Number: {random_fibonacci} ---> Fibonacci Series: \",end = \" \")\n",
    "for number in range(random_fibonacci):  \n",
    "   print(fibonacci(number),end = ' ')"
   ]
  },
  {
   "cell_type": "code",
   "execution_count": null,
   "id": "265e126b",
   "metadata": {},
   "outputs": [],
   "source": []
  }
 ],
 "metadata": {
  "kernelspec": {
   "display_name": "Python 3 (ipykernel)",
   "language": "python",
   "name": "python3"
  },
  "language_info": {
   "codemirror_mode": {
    "name": "ipython",
    "version": 3
   },
   "file_extension": ".py",
   "mimetype": "text/x-python",
   "name": "python",
   "nbconvert_exporter": "python",
   "pygments_lexer": "ipython3",
   "version": "3.9.13"
  }
 },
 "nbformat": 4,
 "nbformat_minor": 5
}
