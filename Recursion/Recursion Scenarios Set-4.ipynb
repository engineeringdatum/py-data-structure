{
 "cells": [
  {
   "cell_type": "markdown",
   "id": "2e9ffc34",
   "metadata": {},
   "source": [
    "<p style=\"font-family:courier;text-align:center;color:rgb(46,64,83);font-size:large\"><b>Capitalize first letter of the first word in a list</b></p>\n",
    "<br>"
   ]
  },
  {
   "cell_type": "code",
   "execution_count": 1,
   "id": "492cdb5e",
   "metadata": {},
   "outputs": [],
   "source": [
    "import random"
   ]
  },
  {
   "cell_type": "code",
   "execution_count": 2,
   "id": "57a8d01a",
   "metadata": {},
   "outputs": [
    {
     "name": "stdout",
     "output_type": "stream",
     "text": [
      "list: ['graph', 'stack', 'queue', 'tree'] -----> w/d capital letters: ['Graph', 'Stack', 'Queue', 'Tree']\n"
     ]
    }
   ],
   "source": [
    "random_input = [\"graph\",\"stack\",\"queue\",\"tree\"]\n",
    "print(f\"list: {random_input} -----> w/d capital letters: {[inp.capitalize() for inp in random_input]}\")"
   ]
  },
  {
   "cell_type": "code",
   "execution_count": 3,
   "id": "237458c7",
   "metadata": {},
   "outputs": [],
   "source": [
    "def capitalize_letters(arr):\n",
    "    capital = []\n",
    "    \n",
    "    if len(arr) == 0:\n",
    "        return capital\n",
    "    \n",
    "    capital.append(arr[0][0].upper()+arr[0][1::])\n",
    "    return capital+capitalize_letters(arr[1:])"
   ]
  },
  {
   "cell_type": "code",
   "execution_count": 4,
   "id": "a9c2ec11",
   "metadata": {},
   "outputs": [
    {
     "data": {
      "text/plain": [
       "['Graph', 'Stack', 'Queue', 'Tree']"
      ]
     },
     "execution_count": 4,
     "metadata": {},
     "output_type": "execute_result"
    }
   ],
   "source": [
    "capitalize_letters(random_input)"
   ]
  },
  {
   "cell_type": "markdown",
   "id": "69b763fe",
   "metadata": {},
   "source": [
    "<br>\n",
    "<p style=\"font-family:courier;text-align:center;color:rgb(46,64,83);font-size:large\"><b>Find the sum of all even numbers in an object which may contain nested objects</p></b>\n",
    "<br>"
   ]
  },
  {
   "cell_type": "code",
   "execution_count": 5,
   "id": "570812fa",
   "metadata": {},
   "outputs": [],
   "source": [
    "obj1 = {\n",
    "  \"outer\": 2,\n",
    "  \"obj\": {\n",
    "    \"inner\": 2,\n",
    "    \"otherObj\": {\n",
    "      \"superInner\": 2,\n",
    "      \"notANumber\": True,\n",
    "      \"alsoNotANumber\": \"yup\"\n",
    "    }\n",
    "  }\n",
    "}\n",
    "\n",
    "obj2 = {\n",
    "  \"a\": 2,\n",
    "  \"b\": {\"b\": 2, \"bb\": {\"b\": 3, \"bb\": {\"b\": 2}}},\n",
    "  \"c\": {\"c\": {\"c\": 2}, \"cc\": 'ball', \"ccc\": 5},\n",
    "  \"d\": 1,\n",
    "  \"e\": {\"e\": {\"e\": 2}, \"ee\": 'car'}\n",
    "}\n"
   ]
  },
  {
   "cell_type": "code",
   "execution_count": 6,
   "id": "e0e5065f",
   "metadata": {},
   "outputs": [],
   "source": [
    "def even(num):\n",
    "    if num %2 == 0:\n",
    "        return True\n",
    "    else:\n",
    "        return False\n",
    "    \n",
    "def evenSum(obj):\n",
    "    final_sum = 0\n",
    "    for key,value in obj.items():\n",
    "        if type(value) is dict:\n",
    "            final_sum += evenSum(value)\n",
    "        elif type(value) is int and even(value):\n",
    "            final_sum += value\n",
    "    return final_sum"
   ]
  },
  {
   "cell_type": "code",
   "execution_count": 7,
   "id": "f28ea9e6",
   "metadata": {},
   "outputs": [
    {
     "name": "stdout",
     "output_type": "stream",
     "text": [
      " Input 1: even number sum of obj1 -----> 6\n",
      " Input 2: even number sum of obj2 -----> 10\n"
     ]
    }
   ],
   "source": [
    "print(f\" Input 1: even number sum of obj1 -----> {evenSum(obj1)}\")\n",
    "print(f\" Input 2: even number sum of obj2 -----> {evenSum(obj2)}\")"
   ]
  },
  {
   "cell_type": "markdown",
   "id": "7c419c92",
   "metadata": {},
   "source": [
    "<p style=\"font-family:courier;text-align:center;color:rgb(46,64,83);font-size:large\"><b>Capitalize words in a list</b></p>\n",
    "<br>"
   ]
  },
  {
   "cell_type": "code",
   "execution_count": 8,
   "id": "53946525",
   "metadata": {},
   "outputs": [
    {
     "name": "stdout",
     "output_type": "stream",
     "text": [
      "list: ['graph', 'stack', 'queue', 'tree'] -----> w/d capital letters: ['GRAPH', 'STACK', 'QUEUE', 'TREE']\n"
     ]
    }
   ],
   "source": [
    "random_input = [\"graph\",\"stack\",\"queue\",\"tree\"]\n",
    "print(f\"list: {random_input} -----> w/d capital letters: {[inp.upper() for inp in random_input]}\")"
   ]
  },
  {
   "cell_type": "code",
   "execution_count": 9,
   "id": "2cf645af",
   "metadata": {},
   "outputs": [],
   "source": [
    "def capitalize_words(arr):\n",
    "    words = []\n",
    "    \n",
    "    if len(arr) == 0:\n",
    "        return words\n",
    "    \n",
    "    words.append(arr[0].upper())\n",
    "    return words+capitalize_words(arr[1:])"
   ]
  },
  {
   "cell_type": "code",
   "execution_count": 10,
   "id": "17709db3",
   "metadata": {},
   "outputs": [
    {
     "data": {
      "text/plain": [
       "['GRAPH', 'STACK', 'QUEUE', 'TREE']"
      ]
     },
     "execution_count": 10,
     "metadata": {},
     "output_type": "execute_result"
    }
   ],
   "source": [
    "capitalize_words(random_input)"
   ]
  },
  {
   "cell_type": "markdown",
   "id": "34bf88e3",
   "metadata": {},
   "source": [
    "<br>\n",
    "<p style=\"font-family:courier;text-align:center;color:rgb(46,64,83);font-size:large\"><b>finds all of the values which are numbers and converts them to strings</p></b>\n",
    "<br>"
   ]
  },
  {
   "cell_type": "code",
   "execution_count": 11,
   "id": "98512c4c",
   "metadata": {},
   "outputs": [],
   "source": [
    "obj = {\n",
    "  \"num\": 1,\n",
    "  \"test\": [],\n",
    "  \"data\": {\n",
    "    \"val\": 4,\n",
    "    \"info\": {\n",
    "      \"isRight\": True,\n",
    "      \"random\": 66\n",
    "    }\n",
    "  }\n",
    "}"
   ]
  },
  {
   "cell_type": "code",
   "execution_count": 12,
   "id": "265e126b",
   "metadata": {},
   "outputs": [],
   "source": [
    "def stringify(obj):\n",
    "    new_obj = obj\n",
    "    \n",
    "    for key,value in obj.items():\n",
    "        if type(value) is dict:\n",
    "            new_obj[key] = stringify(value)\n",
    "        if type(value) is int:\n",
    "            new_obj[key] = str(value)\n",
    "    return new_obj"
   ]
  },
  {
   "cell_type": "code",
   "execution_count": 13,
   "id": "6482e34e",
   "metadata": {},
   "outputs": [
    {
     "data": {
      "text/plain": [
       "{'num': '1',\n",
       " 'test': [],\n",
       " 'data': {'val': '4', 'info': {'isRight': True, 'random': '66'}}}"
      ]
     },
     "execution_count": 13,
     "metadata": {},
     "output_type": "execute_result"
    }
   ],
   "source": [
    "stringify(obj)"
   ]
  },
  {
   "cell_type": "markdown",
   "id": "fa5e57c7",
   "metadata": {},
   "source": [
    "<br>\n",
    "<p style=\"font-family:courier;text-align:center;color:rgb(46,64,83);font-size:large\"><b>collect Strings and returns an array of all the values in the object that have a typeof string.</p></b>\n",
    "<br>"
   ]
  },
  {
   "cell_type": "code",
   "execution_count": 14,
   "id": "28c31e4d",
   "metadata": {},
   "outputs": [],
   "source": [
    "def collect_stringify(obj):\n",
    "    new_obj = []\n",
    "    \n",
    "    for key,value in obj.items():\n",
    "        if type(value) is dict:\n",
    "            new_obj = new_obj + (collect_stringify(value))\n",
    "        if type(value) is str:\n",
    "            new_obj.append(value)\n",
    "    return new_obj"
   ]
  },
  {
   "cell_type": "code",
   "execution_count": 15,
   "id": "2ee150bb",
   "metadata": {},
   "outputs": [
    {
     "data": {
      "text/plain": [
       "['hockey', 'ball', 'bike', 'car']"
      ]
     },
     "execution_count": 15,
     "metadata": {},
     "output_type": "execute_result"
    }
   ],
   "source": [
    "obj =  {\n",
    "  \"a\": 2,\n",
    "  \"b\": {\"b\": 2, \"bb\": {\"b\": 3, \"bb\": {\"b\": 'hockey'}}},\n",
    "  \"c\": {\"c\": {\"c\": 2}, \"cc\": 'ball', \"ccc\": 5},\n",
    "  \"d\": 'bike',\n",
    "  \"e\": {\"e\": {\"e\": 2}, \"ee\": 'car'}\n",
    "}\n",
    "\n",
    "collect_stringify(obj)"
   ]
  },
  {
   "cell_type": "code",
   "execution_count": null,
   "id": "16662072",
   "metadata": {},
   "outputs": [],
   "source": []
  },
  {
   "cell_type": "code",
   "execution_count": null,
   "id": "e526bd0a",
   "metadata": {},
   "outputs": [],
   "source": []
  }
 ],
 "metadata": {
  "kernelspec": {
   "display_name": "Python 3 (ipykernel)",
   "language": "python",
   "name": "python3"
  },
  "language_info": {
   "codemirror_mode": {
    "name": "ipython",
    "version": 3
   },
   "file_extension": ".py",
   "mimetype": "text/x-python",
   "name": "python",
   "nbconvert_exporter": "python",
   "pygments_lexer": "ipython3",
   "version": "3.9.13"
  }
 },
 "nbformat": 4,
 "nbformat_minor": 5
}
