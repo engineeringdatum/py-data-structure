{
 "cells": [
  {
   "cell_type": "markdown",
   "id": "2e9ffc34",
   "metadata": {},
   "source": [
    "<h3 style=\"font-family:courier;\">1. Find the sum of digits of a positive integers in a list</h3>"
   ]
  },
  {
   "cell_type": "code",
   "execution_count": 1,
   "id": "3a095dca",
   "metadata": {},
   "outputs": [],
   "source": [
    "import random"
   ]
  },
  {
   "cell_type": "code",
   "execution_count": 2,
   "id": "57a8d01a",
   "metadata": {},
   "outputs": [
    {
     "name": "stdout",
     "output_type": "stream",
     "text": [
      "[97, 5, 7, 73, 16, 19, 30, 87, 28, 94] -----> sum: 456\n"
     ]
    }
   ],
   "source": [
    "random_list = list({random.randint(0, 100) for idx in range(10)})\n",
    "print(f\"{random_list} -----> sum: {sum(random_list)}\")"
   ]
  },
  {
   "cell_type": "code",
   "execution_count": 3,
   "id": "c9a498a0",
   "metadata": {},
   "outputs": [],
   "source": [
    "def add_numbers(idx,digit_list):\n",
    "    if idx == (len(digit_list)-1):\n",
    "        return digit_list[idx]\n",
    "    return digit_list[idx] + add_numbers(idx+1,digit_list)"
   ]
  },
  {
   "cell_type": "code",
   "execution_count": 4,
   "id": "52ea9546",
   "metadata": {},
   "outputs": [
    {
     "name": "stdout",
     "output_type": "stream",
     "text": [
      "sum of listed numbers = 456\n"
     ]
    }
   ],
   "source": [
    "print(f\"sum of listed numbers = {add_numbers(0,random_list)}\")"
   ]
  },
  {
   "cell_type": "markdown",
   "id": "1fae188f",
   "metadata": {},
   "source": [
    "<h3 style=\"font-family:courier;\">2. Calculate the power of a number</h3>"
   ]
  },
  {
   "cell_type": "code",
   "execution_count": 5,
   "id": "4c5b7fd0",
   "metadata": {},
   "outputs": [
    {
     "name": "stdout",
     "output_type": "stream",
     "text": [
      "(83, 8) -----> power: 2252292232139041\n"
     ]
    }
   ],
   "source": [
    "random_input = (random.randint(0, 100),random.randint(2, 10))\n",
    "print(f\"{random_input} -----> power: {random_input[0]**random_input[1]}\")"
   ]
  },
  {
   "cell_type": "code",
   "execution_count": 6,
   "id": "8c11d333",
   "metadata": {},
   "outputs": [],
   "source": [
    "def calc_power(number,power):\n",
    "    assert int(power) == power, 'power to the number must be an integer'\n",
    "    if power == 0:\n",
    "        return 1\n",
    "    return number * calc_power(number,(power-1))"
   ]
  },
  {
   "cell_type": "code",
   "execution_count": 7,
   "id": "a1c36432",
   "metadata": {},
   "outputs": [
    {
     "name": "stdout",
     "output_type": "stream",
     "text": [
      "83 raise to the power 8 = 2252292232139041\n"
     ]
    }
   ],
   "source": [
    "print(f\"{random_input[0]} raise to the power {random_input[1]} = {calc_power(random_input[0],random_input[1])}\")"
   ]
  },
  {
   "cell_type": "markdown",
   "id": "71410039",
   "metadata": {},
   "source": [
    "<h3 style=\"font-family:courier;\">3. Convert decimal to binary</h3>"
   ]
  },
  {
   "cell_type": "code",
   "execution_count": 8,
   "id": "9e5c8ae5",
   "metadata": {},
   "outputs": [
    {
     "name": "stdout",
     "output_type": "stream",
     "text": [
      " Decimal: 5 -----> Binary: 0b101\n"
     ]
    }
   ],
   "source": [
    "random_decimal = random.randint(2,20)\n",
    "print(f\" Decimal: {random_decimal} -----> Binary: {bin(random_decimal)}\")"
   ]
  },
  {
   "cell_type": "code",
   "execution_count": 9,
   "id": "940e9837",
   "metadata": {},
   "outputs": [],
   "source": [
    "def binary_convert(decimal):\n",
    "    assert int(decimal) == decimal, 'decimal must be an integer'\n",
    "    if decimal == 0:\n",
    "        return 0\n",
    "    return decimal%2 + (10*binary_convert(int(decimal/2)))"
   ]
  },
  {
   "cell_type": "code",
   "execution_count": 10,
   "id": "978b799a",
   "metadata": {},
   "outputs": [
    {
     "name": "stdout",
     "output_type": "stream",
     "text": [
      " Decimal: 5 -----> Binary: 101\n"
     ]
    }
   ],
   "source": [
    "print(f\" Decimal: {random_decimal} -----> Binary: {binary_convert(random_decimal)}\")"
   ]
  },
  {
   "cell_type": "code",
   "execution_count": null,
   "id": "49ea1a1c",
   "metadata": {},
   "outputs": [],
   "source": []
  }
 ],
 "metadata": {
  "kernelspec": {
   "display_name": "Python 3 (ipykernel)",
   "language": "python",
   "name": "python3"
  },
  "language_info": {
   "codemirror_mode": {
    "name": "ipython",
    "version": 3
   },
   "file_extension": ".py",
   "mimetype": "text/x-python",
   "name": "python",
   "nbconvert_exporter": "python",
   "pygments_lexer": "ipython3",
   "version": "3.9.13"
  }
 },
 "nbformat": 4,
 "nbformat_minor": 5
}
