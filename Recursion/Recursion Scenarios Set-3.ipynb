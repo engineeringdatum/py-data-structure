{
 "cells": [
  {
   "cell_type": "markdown",
   "id": "2e9ffc34",
   "metadata": {},
   "source": [
    "<p style=\"font-family:courier;text-align:center;color:rgb(46,64,83);font-size:large\"><b>Input a string and returns a new string in reverse</b></p>\n",
    "<br>"
   ]
  },
  {
   "cell_type": "code",
   "execution_count": 1,
   "id": "492cdb5e",
   "metadata": {},
   "outputs": [],
   "source": [
    "import random"
   ]
  },
  {
   "cell_type": "code",
   "execution_count": 2,
   "id": "57a8d01a",
   "metadata": {},
   "outputs": [
    {
     "name": "stdout",
     "output_type": "stream",
     "text": [
      "String: GitHub Repo -----> Reverse: opeR buHtiG\n"
     ]
    }
   ],
   "source": [
    "random_input = \"GitHub Repo\"\n",
    "print(f\"String: {random_input} -----> Reverse: {random_input[::-1]}\")"
   ]
  },
  {
   "cell_type": "code",
   "execution_count": 3,
   "id": "237458c7",
   "metadata": {},
   "outputs": [],
   "source": [
    "def reverse(str_input,idx):\n",
    "    if len(str_input) == idx:\n",
    "        return ''\n",
    "\n",
    "    return reverse(str_input,idx+1)+str(str_input[idx])"
   ]
  },
  {
   "cell_type": "code",
   "execution_count": 4,
   "id": "a9c2ec11",
   "metadata": {},
   "outputs": [
    {
     "data": {
      "text/plain": [
       "'opeR buHtiG'"
      ]
     },
     "execution_count": 4,
     "metadata": {},
     "output_type": "execute_result"
    }
   ],
   "source": [
    "reverse(random_input,0)"
   ]
  },
  {
   "cell_type": "markdown",
   "id": "69b763fe",
   "metadata": {},
   "source": [
    "<br>\n",
    "<p style=\"font-family:courier;text-align:center;color:rgb(46,64,83);font-size:large\"><b>Check if the string passed is a Palindrome</p></b>\n",
    "<p style=\"font-family:courier;text-align:center\">reads the same forward and backward</p>\n",
    "<br>"
   ]
  },
  {
   "cell_type": "code",
   "execution_count": 5,
   "id": "570812fa",
   "metadata": {},
   "outputs": [],
   "source": [
    "input_A = \"onion\"\n",
    "reversed_A = input_A[::-1]\n",
    "input_B = \"radar\"\n",
    "reversed_B = input_B[::-1]"
   ]
  },
  {
   "cell_type": "code",
   "execution_count": 6,
   "id": "b22ef6ce",
   "metadata": {},
   "outputs": [
    {
     "name": "stdout",
     "output_type": "stream",
     "text": [
      "Input 1: onion -----> Palindrome?: False\n",
      "Input 2: radar -----> Palindrome?: True\n"
     ]
    }
   ],
   "source": [
    "print(f\"Input 1: {input_A} -----> Palindrome?: {input_A == reversed_A}\")\n",
    "print(f\"Input 2: {input_B} -----> Palindrome?: {input_B == reversed_B}\")"
   ]
  },
  {
   "cell_type": "code",
   "execution_count": 7,
   "id": "e0e5065f",
   "metadata": {},
   "outputs": [],
   "source": [
    "def isPalindrome(str_input):\n",
    "    if len(str_input) == 0:\n",
    "        return True\n",
    "    if str_input[0] != str_input[len(str_input)-1]:\n",
    "        return False\n",
    "    return isPalindrome(str_input[1:-1])"
   ]
  },
  {
   "cell_type": "code",
   "execution_count": 8,
   "id": "6abc81aa",
   "metadata": {},
   "outputs": [
    {
     "name": "stdout",
     "output_type": "stream",
     "text": [
      "Input 1: onion -----> Palindrome?: False\n",
      "Input 2: radar -----> Palindrome?: True\n"
     ]
    }
   ],
   "source": [
    "print(f\"Input 1: {input_A} -----> Palindrome?: {isPalindrome(input_A)}\")\n",
    "print(f\"Input 2: {input_B} -----> Palindrome?: {isPalindrome(input_B)}\")"
   ]
  },
  {
   "cell_type": "markdown",
   "id": "7c419c92",
   "metadata": {},
   "source": [
    "<br>\n",
    "<p style=\"font-family:courier;text-align:center;color:rgb(46,64,83);font-size:large\"><b>someRecursive method which accepts an array and a callback</p></b>\n",
    "<p style=\"font-family:courier;text-align:center\">find if input array had an odd number</p>\n",
    "<br>"
   ]
  },
  {
   "cell_type": "code",
   "execution_count": 9,
   "id": "53946525",
   "metadata": {},
   "outputs": [
    {
     "name": "stdout",
     "output_type": "stream",
     "text": [
      "[73, 16, 55, 92, 31]\n"
     ]
    }
   ],
   "source": [
    "random_list = list({random.randint(1, 100) for idx in range(5)})\n",
    "print(f\"{random_list}\")"
   ]
  },
  {
   "cell_type": "code",
   "execution_count": 10,
   "id": "2cf645af",
   "metadata": {},
   "outputs": [],
   "source": [
    "def oddNumber(num):\n",
    "    if num%2 != 0:\n",
    "        return True\n",
    "    else:\n",
    "        return False\n",
    "\n",
    "def someRecursive(arr):\n",
    "    if len(arr) == 0:\n",
    "        return False\n",
    "    elif not (oddNumber(arr[0])):\n",
    "        return recursiveRange(arr[1::])\n",
    "    return True"
   ]
  },
  {
   "cell_type": "code",
   "execution_count": 11,
   "id": "17709db3",
   "metadata": {},
   "outputs": [
    {
     "name": "stdout",
     "output_type": "stream",
     "text": [
      " Number list: [73, 16, 55, 92, 31] -----> if there's an odd number: True\n"
     ]
    }
   ],
   "source": [
    "print(f\" Number list: {random_list} -----> if there's an odd number: {someRecursive(random_list)}\")"
   ]
  },
  {
   "cell_type": "markdown",
   "id": "34bf88e3",
   "metadata": {},
   "source": [
    "<br>\n",
    "<p style=\"font-family:courier;text-align:center;color:rgb(46,64,83);font-size:large\"><b>Flatten array of arrays</p></b>\n",
    "<br>"
   ]
  },
  {
   "cell_type": "code",
   "execution_count": 12,
   "id": "98512c4c",
   "metadata": {},
   "outputs": [],
   "source": [
    "nested_list_A = [[4, 5],1, 2, 3]\n",
    "nested_list_B = [[1], [2], [3]]"
   ]
  },
  {
   "cell_type": "code",
   "execution_count": 13,
   "id": "ae70c40b",
   "metadata": {},
   "outputs": [],
   "source": [
    "def flatten(array):\n",
    "    flat = []\n",
    "    \n",
    "    for items in array:\n",
    "        if type(items) is list:\n",
    "            flat.extend(flatten(items))\n",
    "        else:\n",
    "            flat.append(items)\n",
    "    return flat"
   ]
  },
  {
   "cell_type": "code",
   "execution_count": 14,
   "id": "03d5be31",
   "metadata": {},
   "outputs": [
    {
     "name": "stdout",
     "output_type": "stream",
     "text": [
      " Nested list: [[4, 5], 1, 2, 3] -----> Flattened list: [4, 5, 1, 2, 3]\n",
      " Nested list: [[1], [2], [3]] -----> Flattened list: [1, 2, 3]\n"
     ]
    }
   ],
   "source": [
    "print(f\" Nested list: {nested_list_A} -----> Flattened list: {flatten(nested_list_A)}\")\n",
    "print(f\" Nested list: {nested_list_B} -----> Flattened list: {flatten(nested_list_B)}\")"
   ]
  },
  {
   "cell_type": "code",
   "execution_count": null,
   "id": "265e126b",
   "metadata": {},
   "outputs": [],
   "source": []
  }
 ],
 "metadata": {
  "kernelspec": {
   "display_name": "Python 3 (ipykernel)",
   "language": "python",
   "name": "python3"
  },
  "language_info": {
   "codemirror_mode": {
    "name": "ipython",
    "version": 3
   },
   "file_extension": ".py",
   "mimetype": "text/x-python",
   "name": "python",
   "nbconvert_exporter": "python",
   "pygments_lexer": "ipython3",
   "version": "3.9.13"
  }
 },
 "nbformat": 4,
 "nbformat_minor": 5
}
